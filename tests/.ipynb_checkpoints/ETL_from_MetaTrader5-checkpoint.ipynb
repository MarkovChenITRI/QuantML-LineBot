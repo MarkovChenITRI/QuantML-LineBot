{
 "cells": [
  {
   "cell_type": "code",
   "execution_count": null,
   "id": "00adb971-5afd-496a-93a7-7bdb0bf9ca4a",
   "metadata": {},
   "outputs": [],
   "source": [
    "from datetime import datetime\n",
    "import matplotlib.pyplot as plt\n",
    "import pandas as pd\n",
    "import MetaTrader5 as mt5\n",
    "import time\n",
    " \n",
    "mt5.initialize()"
   ]
  },
  {
   "cell_type": "code",
   "execution_count": null,
   "id": "e1c15c79-1a1b-4037-a7b1-14e8f1971c26",
   "metadata": {},
   "outputs": [],
   "source": [
    "for code in [\"EURUSD\"]:\n",
    "    print(code)\n",
    "    df_info = pd.DataFrame(mt5.copy_ticks_from(code, datetime(2024,1,1,1), 1000000, mt5.COPY_TICKS_ALL))\n",
    "    lag = 1999\n",
    "    while True:\n",
    "        df_price = pd.DataFrame(mt5.copy_rates_from_pos(code, mt5.TIMEFRAME_M1, 0, lag))\n",
    "        if list(df_price['time'])[0] < list(df_info['time'])[0]:\n",
    "            df_price['time']=pd.to_datetime(df_price['time'], unit='s')\n",
    "            df_price = df_price.set_index('time')\n",
    "            break\n",
    "        lag += 1000\n",
    "    df_info['time']=pd.to_datetime(df_info['time'], unit='s')\n",
    "    df_info = df_info.set_index('time')\n",
    "    \n",
    "    df = pd.merge(df_info, df_price, left_index=True, right_index=True, how='outer')\n",
    "    df = df.ffill(axis = 0).dropna()\n",
    "    if df.shape[0] > 0:\n",
    "        df.to_csv(\"data/\" + code + \".csv\")\n",
    "    else:\n",
    "        break\n",
    "    time.sleep(3)\n",
    "df"
   ]
  },
  {
   "cell_type": "code",
   "execution_count": null,
   "id": "1ed4a833-0b6c-4d08-a573-91b7fa486c25",
   "metadata": {},
   "outputs": [],
   "source": []
  },
  {
   "cell_type": "code",
   "execution_count": null,
   "id": "27e0a600-fd6f-4887-a648-836aa7431ccb",
   "metadata": {},
   "outputs": [],
   "source": []
  }
 ],
 "metadata": {
  "kernelspec": {
   "display_name": "Python 3 (ipykernel)",
   "language": "python",
   "name": "python3"
  },
  "language_info": {
   "codemirror_mode": {
    "name": "ipython",
    "version": 3
   },
   "file_extension": ".py",
   "mimetype": "text/x-python",
   "name": "python",
   "nbconvert_exporter": "python",
   "pygments_lexer": "ipython3",
   "version": "3.12.2"
  }
 },
 "nbformat": 4,
 "nbformat_minor": 5
}
