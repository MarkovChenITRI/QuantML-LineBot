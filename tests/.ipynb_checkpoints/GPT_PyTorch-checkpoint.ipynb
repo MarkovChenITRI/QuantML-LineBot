{
 "cells": [
  {
   "cell_type": "markdown",
   "id": "9644b5fe",
   "metadata": {},
   "source": [
    "\n",
    "## GPT from scratch in PyTorch\n"
   ]
  },
  {
   "cell_type": "code",
   "execution_count": 1,
   "id": "fd998537",
   "metadata": {},
   "outputs": [],
   "source": [
    "import torch\n",
    "import numpy as np\n",
    "import torch.nn as nn\n",
    "from torch.nn import functional as F"
   ]
  },
  {
   "cell_type": "code",
   "execution_count": 2,
   "id": "f5ef4475",
   "metadata": {},
   "outputs": [],
   "source": [
    "device = 'cuda' if torch.cuda.is_available() else 'cpu'\n",
    "\n",
    "block_size        = 40      ## N tokens in sequence\n",
    "batch_size        = 64 \n",
    "max_iters         = 6000\n",
    "eval_interval     = 500     \n",
    "learning_rate     = 0.0003\n",
    "eval_iters        = 300\n",
    "vocab_size        = 65\n",
    "n_embd            = 512                  \n",
    "n_head            = 8         ## 8 attention heads\n",
    "n_layer           = 6         ## 6 eoncoder layers\n",
    "dropout           = 0.2"
   ]
  },
  {
   "cell_type": "code",
   "execution_count": 3,
   "id": "2849b23c",
   "metadata": {},
   "outputs": [
    {
     "name": "stdout",
     "output_type": "stream",
     "text": [
      "length of data in letter or characters: 590407\n"
     ]
    },
    {
     "data": {
      "text/plain": [
       "['i', ' ', 'h', 'w', '’', 'A', '[', 'S', 'U', 'a']"
      ]
     },
     "execution_count": 3,
     "metadata": {},
     "output_type": "execute_result"
    }
   ],
   "source": [
    "text = ''\n",
    "input_file2 = 'HuckFinn.txt'\n",
    "with open(input_file2, 'r', encoding='utf-8') as f:\n",
    "    text = f.read()\n",
    "print(\"length of data in letter or characters:\", len(text))\n",
    "list(set(text))[:10]"
   ]
  },
  {
   "cell_type": "code",
   "execution_count": 4,
   "id": "a1fbd2a2",
   "metadata": {},
   "outputs": [
    {
     "name": "stdout",
     "output_type": "stream",
     "text": [
      "88\n",
      "\n",
      " !#$%()*,-./0123456789:;?ABCDEFGHIJKLMNOPQRSTUVWXY[]_abcdefghijklmnopqrstuvwxyz—‘’“”•™﻿\n"
     ]
    }
   ],
   "source": [
    "the_chars = sorted(list(set(text)))\n",
    "vocab_size = len(the_chars)      ## 65\n",
    "print(len(the_chars))\n",
    "print(''.join(the_chars))"
   ]
  },
  {
   "cell_type": "code",
   "execution_count": 5,
   "id": "dbd6792d",
   "metadata": {},
   "outputs": [
    {
     "name": "stdout",
     "output_type": "stream",
     "text": [
      "{'\\n': 0, ' ': 1, '!': 2, '#': 3, '$': 4, '%': 5, '(': 6, ')': 7, '*': 8, ',': 9, '-': 10, '.': 11, '/': 12, '0': 13, '1': 14, '2': 15, '3': 16, '4': 17, '5': 18, '6': 19, '7': 20, '8': 21, '9': 22, ':': 23, ';': 24, '?': 25, 'A': 26, 'B': 27, 'C': 28, 'D': 29, 'E': 30, 'F': 31, 'G': 32, 'H': 33, 'I': 34, 'J': 35, 'K': 36, 'L': 37, 'M': 38, 'N': 39, 'O': 40, 'P': 41, 'Q': 42, 'R': 43, 'S': 44, 'T': 45, 'U': 46, 'V': 47, 'W': 48, 'X': 49, 'Y': 50, '[': 51, ']': 52, '_': 53, 'a': 54, 'b': 55, 'c': 56, 'd': 57, 'e': 58, 'f': 59, 'g': 60, 'h': 61, 'i': 62, 'j': 63, 'k': 64, 'l': 65, 'm': 66, 'n': 67, 'o': 68, 'p': 69, 'q': 70, 'r': 71, 's': 72, 't': 73, 'u': 74, 'v': 75, 'w': 76, 'x': 77, 'y': 78, 'z': 79, '—': 80, '‘': 81, '’': 82, '“': 83, '”': 84, '•': 85, '™': 86, '\\ufeff': 87}\n",
      "{0: '\\n', 1: ' ', 2: '!', 3: '#', 4: '$', 5: '%', 6: '(', 7: ')', 8: '*', 9: ',', 10: '-', 11: '.', 12: '/', 13: '0', 14: '1', 15: '2', 16: '3', 17: '4', 18: '5', 19: '6', 20: '7', 21: '8', 22: '9', 23: ':', 24: ';', 25: '?', 26: 'A', 27: 'B', 28: 'C', 29: 'D', 30: 'E', 31: 'F', 32: 'G', 33: 'H', 34: 'I', 35: 'J', 36: 'K', 37: 'L', 38: 'M', 39: 'N', 40: 'O', 41: 'P', 42: 'Q', 43: 'R', 44: 'S', 45: 'T', 46: 'U', 47: 'V', 48: 'W', 49: 'X', 50: 'Y', 51: '[', 52: ']', 53: '_', 54: 'a', 55: 'b', 56: 'c', 57: 'd', 58: 'e', 59: 'f', 60: 'g', 61: 'h', 62: 'i', 63: 'j', 64: 'k', 65: 'l', 66: 'm', 67: 'n', 68: 'o', 69: 'p', 70: 'q', 71: 'r', 72: 's', 73: 't', 74: 'u', 75: 'v', 76: 'w', 77: 'x', 78: 'y', 79: 'z', 80: '—', 81: '‘', 82: '’', 83: '“', 84: '”', 85: '•', 86: '™', 87: '\\ufeff'}\n"
     ]
    }
   ],
   "source": [
    "stoi = {ch: i for i, ch in enumerate(the_chars)}\n",
    "itos = {i: ch for i, ch in enumerate(the_chars)}\n",
    "print(stoi)\n",
    "print(itos)"
   ]
  },
  {
   "cell_type": "code",
   "execution_count": 6,
   "id": "d4e0a86f",
   "metadata": {},
   "outputs": [
    {
     "data": {
      "text/plain": [
       "([55, 54, 61, 61], 'ONUU')"
      ]
     },
     "execution_count": 6,
     "metadata": {},
     "output_type": "execute_result"
    }
   ],
   "source": [
    "encode = lambda s: [ stoi[c]          for c in s   ]\n",
    "decode = lambda l: ''.join(   itos[i] for i in l   )\n",
    "encode(\"bahh\"), decode([40, 39, 46, 46])"
   ]
  },
  {
   "cell_type": "code",
   "execution_count": 7,
   "id": "14091bc3",
   "metadata": {},
   "outputs": [
    {
     "name": "stdout",
     "output_type": "stream",
     "text": [
      "tensor([87, 45, 61,  ...,  0,  0,  0])\n"
     ]
    }
   ],
   "source": [
    "data = torch.tensor(encode(text), dtype=torch.long)\n",
    "print(data)"
   ]
  },
  {
   "cell_type": "code",
   "execution_count": 8,
   "id": "15111645",
   "metadata": {},
   "outputs": [],
   "source": [
    "n = int(0.9*len(data))\n",
    "train_data, val_data = data[:n], data[n:]"
   ]
  },
  {
   "cell_type": "code",
   "execution_count": 9,
   "id": "bff7ae6c",
   "metadata": {},
   "outputs": [],
   "source": [
    "def get_batch(split):\n",
    "    if split == \"train\":\n",
    "        data = train_data\n",
    "    else:\n",
    "        data = val_data\n",
    "    ix = torch.randint(len(data) - block_size, (batch_size,))\n",
    "    x  = torch.stack([data[i : i+block_size] for i in ix]) \n",
    "    y  = torch.stack([data[i+1 : i+1+block_size] for i in ix])\n",
    "    x, y = x.to(device), y.to(device)\n",
    "    return x, y"
   ]
  },
  {
   "cell_type": "code",
   "execution_count": 10,
   "id": "eb11fcf8",
   "metadata": {},
   "outputs": [
    {
     "name": "stdout",
     "output_type": "stream",
     "text": [
      "tensor([ 56654, 203217,   2231, 327343])\n"
     ]
    }
   ],
   "source": [
    "temp_batch_size = 4\n",
    "temp_block_size = 16\n",
    "ix = torch.randint(len(data) - block_size, (temp_batch_size,))\n",
    "print(ix)"
   ]
  },
  {
   "cell_type": "code",
   "execution_count": 11,
   "id": "18713538",
   "metadata": {},
   "outputs": [
    {
     "name": "stdout",
     "output_type": "stream",
     "text": [
      "tensor(11)\n",
      "tensor(68)\n",
      "tensor(56)\n",
      "tensor(58)\n"
     ]
    }
   ],
   "source": [
    "for index_temp in ix:\n",
    "    print(data[index_temp])"
   ]
  },
  {
   "cell_type": "code",
   "execution_count": 12,
   "id": "c67d3511",
   "metadata": {},
   "outputs": [
    {
     "name": "stdout",
     "output_type": "stream",
     "text": [
      "tensor([[11,  1, 45, 61, 58, 67,  1, 73, 61, 58,  1, 68, 65, 57,  1, 66],\n",
      "        [68,  9,  1, 69, 62, 65, 58, 57,  1, 74, 69,  1, 69, 58, 71, 59],\n",
      "        [56, 71, 54, 56, 78, 11, 80, 31, 58, 74, 57, 72, 11, 80, 45, 61],\n",
      "        [58, 71, 72,  1, 68, 74, 73,  1, 54,  1, 69, 62, 68, 74, 72,  1]])\n",
      "tensor([[ 1, 45, 61, 58, 67,  1, 73, 61, 58,  1, 68, 65, 57,  1, 66, 54],\n",
      "        [ 9,  1, 69, 62, 65, 58, 57,  1, 74, 69,  1, 69, 58, 71, 59, 58],\n",
      "        [71, 54, 56, 78, 11, 80, 31, 58, 74, 57, 72, 11, 80, 45, 61, 58],\n",
      "        [71, 72,  1, 68, 74, 73,  1, 54,  1, 69, 62, 68, 74, 72,  1, 60]])\n"
     ]
    }
   ],
   "source": [
    "x = torch.stack([data[i: i + temp_block_size] for i in ix]) \n",
    "y = torch.stack([data[i+1: i+1+ temp_block_size] for i in ix])\n",
    "print(x)\n",
    "print(y)"
   ]
  },
  {
   "cell_type": "code",
   "execution_count": 13,
   "id": "c58677ef",
   "metadata": {},
   "outputs": [],
   "source": [
    "@torch.no_grad()    ## for efficient processing\n",
    "def estimate_loss():\n",
    "    out = {}\n",
    "    model.eval()   ## set to no training\n",
    "    for split in ['train', 'val']:\n",
    "        losses = torch.zeros(eval_iters)\n",
    "        for k in range(eval_iters):\n",
    "            X, Y = get_batch(split)\n",
    "            logits, loss = model(X, Y)\n",
    "            losses[k] = loss.item()\n",
    "        out[split] = losses.mean()\n",
    "    model.train()  ## back to training\n",
    "    return out"
   ]
  },
  {
   "cell_type": "markdown",
   "id": "01742ea3",
   "metadata": {},
   "source": [
    "\n",
    "## NN Architectures\n"
   ]
  },
  {
   "cell_type": "code",
   "execution_count": 14,
   "id": "01cc1335",
   "metadata": {},
   "outputs": [],
   "source": [
    "class Head(nn.Module):\n",
    "    def __init__(self, head_size):\n",
    "        super().__init__()\n",
    "        self.key   = nn.Linear(n_embd, head_size, bias=False)  ## [512, 64]\n",
    "        self.query = nn.Linear(n_embd, head_size, bias=False)  ## [512, 64]\n",
    "        self.value = nn.Linear(n_embd, head_size, bias=False)  ## [512, 64]\n",
    "        tril_def = torch.tril( torch.ones(block_size, block_size) )  ## [40, 40]\n",
    "        self.register_buffer('tril', tril_def)\n",
    "        self.dropout = nn.Dropout(dropout)\n",
    "\n",
    "    def forward(self, x):\n",
    "        B, T, E = x.shape   ## [batch_size, 40, 512]\n",
    "        k = self.key(x)            ## k = (B, T, 64)\n",
    "        q = self.query(x)            ## q = (B, T, 64)\n",
    "        E2 = 64     ## I think this is 64 and not 512\n",
    "        wei = q @ k.transpose(-2, -1) * E2 ** -0.5        ## (B, T, E) @ (B, E, T)  -> (B, T, T)\n",
    "        wei = wei.masked_fill(self.tril[:T, :T] == 0, float('-inf'))   \n",
    "        wei = F.softmax( wei, dim= -1 )         ## (B, T, T)\n",
    "        wei = self.dropout(   wei   )\n",
    "        v   = self.value(  x  )   ## x = (B, 40, E)\n",
    "        out = wei @ v             ## (B, T, T) @ (B, T, 64) -> (B, T, 64)\n",
    "        return out\n",
    "\n",
    "class FeedForward(nn.Module):\n",
    "    def __init__(self, n_embd):         ## 512\n",
    "        super().__init__()\n",
    "        self.net = nn.Sequential(\n",
    "            nn.Linear(n_embd, 4 * n_embd),      ## [512, 4*512]\n",
    "            nn.ReLU(),\n",
    "            nn.Linear(4 * n_embd, n_embd),      ## [4*512, 512]\n",
    "            nn.Dropout(dropout),\n",
    "        )\n",
    "        \n",
    "    def forward(self, x):\n",
    "        return self.net(x)\n",
    "\n",
    "class MultiHeadAttention(nn.Module):\n",
    "    def __init__(self, num_heads, head_size):    ## (8, 64)\n",
    "        super().__init__()\n",
    "        self.heads = nn.ModuleList(  [ Head(head_size) for _ in range(num_heads) ] )\n",
    "        self.proj  = nn.Linear(n_embd, n_embd)   ## 512, 512\n",
    "        self.dropout = nn.Dropout(dropout)\n",
    "    \n",
    "    def forward(self, x):\n",
    "        out = torch.cat(   [ h(x) for h in self.heads ], dim = -1   )\n",
    "        out = self.proj(  out   )\n",
    "        out = self.dropout(   out   )\n",
    "        return out\n",
    "\n",
    "class Block(nn.Module):\n",
    "    def __init__(self, n_embd, n_head):     ## (512, 8)\n",
    "        super().__init__()\n",
    "        head_size = n_embd // n_head        ## 64\n",
    "        self.sa   = MultiHeadAttention(n_head, head_size)\n",
    "        self.ffwd = FeedForward( n_embd)    ## 512\n",
    "        self.ln1  = nn.LayerNorm(n_embd)\n",
    "        self.ln2  = nn.LayerNorm(n_embd)\n",
    "        \n",
    "    def forward(self, x):\n",
    "        x = x + self.sa(self.ln1(x))\n",
    "        x = x + self.ffwd(self.ln2(x))\n",
    "        return x\n",
    "\n",
    "class GPT(nn.Module):\n",
    "    def __init__(self):\n",
    "        super().__init__()\n",
    "        self.token_embedding_table = nn.Embedding(vocab_size, n_embd)   ## [65, 512]\n",
    "        self.pos_emb_table = nn.Embedding(block_size, n_embd)     ## [block, 512]\n",
    "        self.blocks = nn.Sequential(*[Block(n_embd, n_head=n_head) for _ in range(n_layer)])\n",
    "        self.ln_f = nn.LayerNorm(n_embd)        \n",
    "        self.lm_ffw_head = nn.Linear(n_embd, vocab_size)  ## [512, 65] # FFW Layer\n",
    "        \n",
    "    def forward(self, idx, targets=None):\n",
    "        B, T = idx.shape     ## (Batch, 40), ids and targets are both (B, T) tensors of integers\n",
    "        tok_emb = self.token_embedding_table(idx)      \n",
    "        pos_emb = self.pos_emb_table(torch.arange(T, device=device))  \n",
    "        x = tok_emb + pos_emb    ## [B, T, E] or [64, 40, 512]\n",
    "        x = self.blocks(  x  )   ## (B, T, E)        \n",
    "        x = self.ln_f(    x  )   ## (B, T, E)   ## norm\n",
    "        logits = self.lm_ffw_head(x)         ## [B, 40, 65] \n",
    "        if targets is None:\n",
    "            loss = None\n",
    "        else:\n",
    "            B, T, E  = logits.shape\n",
    "            logits  = logits.view( B*T, E)\n",
    "            targets = targets.view(B*T)\n",
    "            loss    = F.cross_entropy(logits, targets)\n",
    "        return logits, loss\n",
    "        \n",
    "    def generate(self, idx, max_new_tokens):    ## idx is (B, T)\n",
    "        for _ in range(max_new_tokens):\n",
    "            idx_cond = idx[:, -block_size:]\n",
    "            logits, loss = self(idx_cond)    ## ## get preds\n",
    "            logits = logits[:, -1, :]    ## focus on last one (B, E)\n",
    "            probs = F.softmax(logits, dim= -1)    ## (B, E) get probs\n",
    "            idx_next = torch.multinomial(probs, num_samples=1)     ## (B, 1) selected\n",
    "            idx = torch.cat(  (idx, idx_next), dim=1  )   ## (B, T+1) append sample to running sequence\n",
    "        return idx"
   ]
  },
  {
   "cell_type": "code",
   "execution_count": 15,
   "id": "1b674c77",
   "metadata": {},
   "outputs": [],
   "source": [
    "model = GPT()\n",
    "model = model.to(device)\n",
    "optimizer = torch.optim.Adam(model.parameters(), lr=learning_rate)"
   ]
  },
  {
   "cell_type": "code",
   "execution_count": null,
   "id": "13fac071",
   "metadata": {},
   "outputs": [
    {
     "name": "stdout",
     "output_type": "stream",
     "text": [
      "step 0: train loss 4.4680, val loss 4.4705\n"
     ]
    }
   ],
   "source": [
    "for iter in range(max_iters):\n",
    "    if iter % eval_interval == 0:\n",
    "        losses = estimate_loss()\n",
    "        print(f\"step {iter}: train loss {losses['train']:.4f}, val loss {losses['val']:.4f}\")\n",
    "    x, y = get_batch('train')\n",
    "    logits, loss = model(x, y)\n",
    "    optimizer.zero_grad(set_to_none=True)\n",
    "    loss.backward()\n",
    "    optimizer.step()"
   ]
  },
  {
   "cell_type": "code",
   "execution_count": null,
   "id": "8be5cacb",
   "metadata": {},
   "outputs": [],
   "source": [
    "sos_context = torch.zeros((1, 1), dtype=torch.long, device=device)   \n",
    "generated_text = m.generate(sos_context, max_new_tokens=500)[0].tolist()\n",
    "print(decode(generated_text))"
   ]
  },
  {
   "cell_type": "code",
   "execution_count": null,
   "id": "4b28825c",
   "metadata": {},
   "outputs": [],
   "source": []
  }
 ],
 "metadata": {
  "kernelspec": {
   "display_name": "Python 3",
   "language": "python",
   "name": "python3"
  },
  "language_info": {
   "codemirror_mode": {
    "name": "ipython",
    "version": 3
   },
   "file_extension": ".py",
   "mimetype": "text/x-python",
   "name": "python",
   "nbconvert_exporter": "python",
   "pygments_lexer": "ipython3",
   "version": "3.8.18"
  }
 },
 "nbformat": 4,
 "nbformat_minor": 5
}
