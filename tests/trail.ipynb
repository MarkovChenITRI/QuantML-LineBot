{
 "cells": [
  {
   "cell_type": "code",
   "execution_count": 1,
   "id": "91506f70-7cd2-4a09-8e7c-0fc81dd25b4e",
   "metadata": {},
   "outputs": [],
   "source": [
    "import glob, torch\n",
    "import pandas as pd\n",
    "import numpy as np\n",
    "#import matplotlib.pyplot as plt\n",
    "#import seaborn as sns\n",
    "device = 'cuda' if torch.cuda.is_available() else 'cpu'\n",
    "\n",
    "leverage = 200\n",
    "resolution = 100\n",
    "block_size = 40\n",
    "batch_size = 64\n",
    "max_iters  = 1\n",
    "eval_interval  = 500     \n",
    "learning_rate  = 0.0003\n",
    "eval_iters  = 300\n",
    "n_embd  = 512                  \n",
    "n_head = 8\n",
    "n_layer  = 6\n",
    "dropout = 0.2"
   ]
  },
  {
   "cell_type": "markdown",
   "id": "c3a7f333-580e-4f2c-a0d5-3ea01456389b",
   "metadata": {},
   "source": [
    "## Load Dataset"
   ]
  },
  {
   "cell_type": "code",
   "execution_count": 2,
   "id": "0bf14884-8478-4dd4-b2f3-097412445f44",
   "metadata": {},
   "outputs": [
    {
     "data": {
      "text/plain": [
       "(2744, 190)"
      ]
     },
     "execution_count": 2,
     "metadata": {},
     "output_type": "execute_result"
    }
   ],
   "source": [
    "def Data_Loader(path):\n",
    "    df = pd.read_csv(path)\n",
    "    df['date'] = pd.to_datetime(df['date'])\n",
    "    df['lag'] = np.where(df['date'].diff(1).dt.total_seconds()> 4800, 1, 0)\n",
    "    df['ticks'] = ((df['close'] - np.min(df['close'])) * leverage / np.min(df['close']) * resolution).astype(int)\n",
    "    df = df.set_index('date')\n",
    "    return df\n",
    "\n",
    "text = []\n",
    "for path in glob.glob(\"./data/*\")[: 1]:\n",
    "    text.append(-1)\n",
    "    df, code = Data_Loader(path), path.replace('.csv', '').replace('\\\\', '/').split('/')[-1]\n",
    "    text += list(df['ticks'])\n",
    "    #plt.figure(figsize=[15, 3]); plt.scatter(df['ticks'].index, df['ticks'], s = 0.1); plt.xlabel(code); plt.ylabel('%'); plt.show()\n",
    "len(text), max(text)"
   ]
  },
  {
   "cell_type": "markdown",
   "id": "9010cbfd-2c09-4761-b587-8d8c2e2d0a4c",
   "metadata": {},
   "source": [
    "## Preprocessing"
   ]
  },
  {
   "cell_type": "code",
   "execution_count": 3,
   "id": "a81adefd-e23b-41cb-9e35-8ec379353190",
   "metadata": {
    "scrolled": true
   },
   "outputs": [
    {
     "name": "stdout",
     "output_type": "stream",
     "text": [
      "vocab_size: 184\n"
     ]
    }
   ],
   "source": [
    "class Sampler():\n",
    "    def __init__(self):\n",
    "        pass\n",
    "        \n",
    "    def shift(self, x, vocab_size):\n",
    "        if np.random.rand() > 0.5:\n",
    "            x = np.array(x) + int(np.random.rand() * (vocab_size - np.max(x)))\n",
    "        else:\n",
    "            x = np.array(x) - int(np.random.rand() * np.min(x))\n",
    "        return list(x)\n",
    "        \n",
    "    def fit(self, text, train_rate=0.9):\n",
    "        the_chars = sorted(list(set(text)))\n",
    "        vocab_size = len(the_chars)\n",
    "        stoi, itos = {ch: i for i, ch in enumerate(the_chars)}, {i: ch for i, ch in enumerate(the_chars)}\n",
    "        self.encode, self.decode = lambda s: [stoi[c] for c in s], lambda l: [itos[i] for i in l]  \n",
    "        \n",
    "        data = torch.tensor(self.encode(text), dtype=torch.long)\n",
    "        n = int(train_rate * len(data))\n",
    "        self.train_data, self.val_data = data[:n], data[n:]\n",
    "        #population = []\n",
    "        #for _ in range(1):\n",
    "        #    for i in range(len(text) - block_size):\n",
    "        #        x = text[i: i+block_size]\n",
    "        #        if -1 not in x:\n",
    "        #            population += self.shift(x, vocab_size)\n",
    "        #sns.displot(population); plt.show()\n",
    "        return the_chars, vocab_size\n",
    "\n",
    "    def get_batch(self, split):\n",
    "        data = self.train_data if split == \"train\" else self.val_data\n",
    "        x, y = [], []\n",
    "        while len(x) < batch_size:\n",
    "            i = torch.randint(len(data) - block_size - 1, (1, ))[0]\n",
    "            sample = data[i : i + 1 + block_size]\n",
    "            if -1 not in sample:\n",
    "                sample = self.shift(sample.detach().numpy(), vocab_size)\n",
    "                x.append(sample[: -1]); y.append(sample[1: ])\n",
    "        return torch.tensor(x).to(device), torch.tensor(y).to(device)\n",
    "\n",
    "processor = Sampler()\n",
    "the_chars, vocab_size = processor.fit(text, 0.9)\n",
    "print(\"vocab_size:\", vocab_size)"
   ]
  },
  {
   "cell_type": "code",
   "execution_count": 4,
   "id": "858f51a3-6283-43d7-bf79-bd7237eec2cf",
   "metadata": {},
   "outputs": [
    {
     "data": {
      "text/plain": [
       "(torch.Size([64, 40]), torch.Size([64, 40]))"
      ]
     },
     "execution_count": 4,
     "metadata": {},
     "output_type": "execute_result"
    }
   ],
   "source": [
    "x, y = processor.get_batch(\"train\")\n",
    "x.shape, y.shape"
   ]
  },
  {
   "cell_type": "markdown",
   "id": "d20b305f-6894-445e-9ebf-a3899ecf43c8",
   "metadata": {},
   "source": [
    "## Training"
   ]
  },
  {
   "cell_type": "code",
   "execution_count": 5,
   "id": "11fe1e4a-ab13-447a-92d3-68fb00572da5",
   "metadata": {},
   "outputs": [],
   "source": [
    "import torch.nn as nn\n",
    "from torch.nn import functional as F\n",
    "\n",
    "class Head(nn.Module):\n",
    "    def __init__(self, head_size):\n",
    "        super().__init__()\n",
    "        self.key   = nn.Linear(n_embd, head_size, bias=False)\n",
    "        self.query = nn.Linear(n_embd, head_size, bias=False)\n",
    "        self.value = nn.Linear(n_embd, head_size, bias=False)\n",
    "        tril_def = torch.tril( torch.ones(block_size, block_size) )\n",
    "        self.register_buffer('tril', tril_def)\n",
    "        self.dropout = nn.Dropout(dropout)\n",
    "\n",
    "    def forward(self, x):\n",
    "        B, T, E = x.shape\n",
    "        k = self.key(x)\n",
    "        q = self.query(x)\n",
    "        E2 = 64\n",
    "        wei = q @ k.transpose(-2, -1) * E2 ** -0.5\n",
    "        wei = wei.masked_fill(self.tril[:T, :T] == 0, float('-inf'))   \n",
    "        wei = F.softmax(wei, dim= -1)\n",
    "        wei = self.dropout(wei)\n",
    "        v   = self.value(x)\n",
    "        out = wei @ v\n",
    "        return out\n",
    "\n",
    "class FeedForward(nn.Module):\n",
    "    def __init__(self, n_embd):\n",
    "        super().__init__()\n",
    "        self.net = nn.Sequential(\n",
    "            nn.Linear(n_embd, 4 * n_embd),\n",
    "            nn.ReLU(),\n",
    "            nn.Linear(4 * n_embd, n_embd),\n",
    "            nn.Dropout(dropout),\n",
    "        )\n",
    "        \n",
    "    def forward(self, x):\n",
    "        return self.net(x)\n",
    "\n",
    "class MultiHeadAttention(nn.Module):\n",
    "    def __init__(self, num_heads, head_size):\n",
    "        super().__init__()\n",
    "        self.heads = nn.ModuleList([Head(head_size) for _ in range(num_heads)])\n",
    "        self.proj = nn.Linear(n_embd, n_embd)\n",
    "        self.dropout = nn.Dropout(dropout)\n",
    "    \n",
    "    def forward(self, x):\n",
    "        out = torch.cat([h(x) for h in self.heads ], dim = -1)\n",
    "        out = self.proj(out)\n",
    "        out = self.dropout(out)\n",
    "        return out\n",
    "\n",
    "class Block(nn.Module):\n",
    "    def __init__(self, n_embd, n_head):\n",
    "        super().__init__()\n",
    "        head_size = n_embd // n_head\n",
    "        self.sa   = MultiHeadAttention(n_head, head_size)\n",
    "        self.ffwd = FeedForward( n_embd)\n",
    "        self.ln1  = nn.LayerNorm(n_embd)\n",
    "        self.ln2  = nn.LayerNorm(n_embd)\n",
    "        \n",
    "    def forward(self, x):\n",
    "        x = x + self.sa(self.ln1(x))\n",
    "        x = x + self.ffwd(self.ln2(x))\n",
    "        return x\n",
    "\n",
    "class GPT(nn.Module):\n",
    "    def __init__(self):\n",
    "        super().__init__()\n",
    "        self.token_embedding_table = nn.Embedding(vocab_size, n_embd)\n",
    "        self.pos_emb_table = nn.Embedding(block_size, n_embd)\n",
    "        self.blocks = nn.Sequential(*[Block(n_embd, n_head=n_head) for _ in range(n_layer)])\n",
    "        self.ln_f = nn.LayerNorm(n_embd)        \n",
    "        self.lm_ffw_head = nn.Linear(n_embd, vocab_size)\n",
    "        \n",
    "    def forward(self, idx, targets=None):\n",
    "        B, T = idx.shape\n",
    "        tok_emb = self.token_embedding_table(idx)      \n",
    "        pos_emb = self.pos_emb_table(torch.arange(T, device=device))  \n",
    "        x = tok_emb + pos_emb\n",
    "        x = self.blocks(x)    \n",
    "        x = self.ln_f(x)\n",
    "        logits = self.lm_ffw_head(x)\n",
    "        if targets is None:\n",
    "            loss = None\n",
    "        else:\n",
    "            B, T, E  = logits.shape\n",
    "            logits  = logits.view( B*T, E)\n",
    "            targets = targets.view(B*T)\n",
    "            loss    = F.cross_entropy(logits, targets)\n",
    "        return logits, loss\n",
    "        \n",
    "    def generate(self, idx, max_new_tokens):\n",
    "        input = len(idx[0])\n",
    "        for _ in range(max_new_tokens):\n",
    "            idx_cond = idx[:, -block_size:]\n",
    "            logits, loss = self(idx_cond)\n",
    "            logits = logits[:, -1, :]\n",
    "            probs = F.softmax(logits, dim= -1)\n",
    "            idx_next = torch.multinomial(probs, num_samples=1)\n",
    "            idx = torch.cat((idx, idx_next), dim=1)\n",
    "        return idx[0][input:]"
   ]
  },
  {
   "cell_type": "code",
   "execution_count": 6,
   "id": "002b3bbe-1856-49ac-bc83-4808965d632f",
   "metadata": {},
   "outputs": [],
   "source": [
    "@torch.no_grad()\n",
    "def estimate_loss():\n",
    "    out = {}\n",
    "    model.eval()\n",
    "    for split in ['train', 'val']:\n",
    "        losses = torch.zeros(eval_iters)\n",
    "        for k in range(eval_iters):\n",
    "            X, Y = processor.get_batch('split')\n",
    "            logits, loss = model(X, Y)\n",
    "            losses[k] = loss.item()\n",
    "        out[split] = losses.mean()\n",
    "    model.train()\n",
    "    return out\n",
    "\n",
    "model = GPT()\n",
    "model = model.to(device)\n",
    "optimizer = torch.optim.Adam(model.parameters(), lr=learning_rate)"
   ]
  },
  {
   "cell_type": "code",
   "execution_count": 7,
   "id": "356bf4a0-9f17-4426-a5a1-8ed5a15c26fe",
   "metadata": {},
   "outputs": [
    {
     "name": "stdout",
     "output_type": "stream",
     "text": [
      "step 0: train loss 5.3231, val loss 5.3203\n"
     ]
    }
   ],
   "source": [
    "for iter in range(max_iters):\n",
    "    if iter % eval_interval == 0:\n",
    "        losses = estimate_loss()\n",
    "        print(f\"step {iter}: train loss {losses['train']:.4f}, val loss {losses['val']:.4f}\")\n",
    "    x, y = processor.get_batch('train')\n",
    "    logits, loss = model(x, y)\n",
    "    optimizer.zero_grad(set_to_none=True)\n",
    "    loss.backward()\n",
    "    optimizer.step()"
   ]
  },
  {
   "cell_type": "code",
   "execution_count": 8,
   "id": "9b5d78b1-53c9-494b-93f8-c40645c8ff04",
   "metadata": {},
   "outputs": [
    {
     "name": "stderr",
     "output_type": "stream",
     "text": [
      "C:\\Users\\B20447\\AppData\\Local\\Temp\\ipykernel_7480\\2113644753.py:1: UserWarning: To copy construct from a tensor, it is recommended to use sourceTensor.clone().detach() or sourceTensor.clone().detach().requires_grad_(True), rather than torch.tensor(sourceTensor).\n",
      "  prompt = torch.tensor(processor.val_data[: block_size], dtype=torch.long, device=device)[None, ]\n"
     ]
    },
    {
     "name": "stdout",
     "output_type": "stream",
     "text": [
      "Input:  [163 164 165 166 168 168 168 168 171 170 168 169 167 171 170 167 168 170\n",
      " 171 170 173 173 172 172 174 174 175 176 178 178 179 179 180 182 183 182\n",
      " 181 179 181 181]\n",
      "40\n",
      "tensor([[163, 164, 165, 166, 168, 168, 168, 168, 171, 170, 168, 169, 167, 171,\n",
      "         170, 167, 168, 170, 171, 170, 173, 173, 172, 172, 174, 174, 175, 176,\n",
      "         178, 178, 179, 179, 180, 182, 183, 182, 181, 179, 181, 181,  24,  70,\n",
      "         176,  45, 141]])\n",
      "Ground True: [178 174 171 167 165]\n",
      "Prediction:  [ 23  73 182  44 144]\n"
     ]
    }
   ],
   "source": [
    "prompt = torch.tensor(processor.val_data[: block_size], dtype=torch.long, device=device)[None, ]\n",
    "output = model.generate(prompt, max_new_tokens=5).tolist()\n",
    "print('Ground True:', processor.val_data[block_size: block_size + 5].detach().numpy())\n",
    "print('Prediction: ', np.array(processor.decode(output)))"
   ]
  },
  {
   "cell_type": "code",
   "execution_count": null,
   "id": "dedc3218-6e6d-4964-b247-963ef242f796",
   "metadata": {},
   "outputs": [],
   "source": []
  }
 ],
 "metadata": {
  "kernelspec": {
   "display_name": "Python 3",
   "language": "python",
   "name": "python3"
  },
  "language_info": {
   "codemirror_mode": {
    "name": "ipython",
    "version": 3
   },
   "file_extension": ".py",
   "mimetype": "text/x-python",
   "name": "python",
   "nbconvert_exporter": "python",
   "pygments_lexer": "ipython3",
   "version": "3.8.18"
  }
 },
 "nbformat": 4,
 "nbformat_minor": 5
}
